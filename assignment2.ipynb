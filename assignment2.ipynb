{
 "cells": [
  {
   "cell_type": "code",
   "execution_count": 5,
   "metadata": {},
   "outputs": [
    {
     "name": "stdout",
     "output_type": "stream",
     "text": [
      "AI:\n",
      "        Here's what I know:\n",
      "        Executive Producer : Chuck Lorre, Steven Molaro\n",
      "        Genre : Sitcom\n",
      "        Language : English\n",
      "        Country of Origin : USA\n",
      "        Starring : Iain Armitage, Zoe Perry, Lance Barber, Montana Jordan, Raegan Revord, Annie Potts and more\n",
      "        No. of Seaons : 4\n",
      "        No. of Episodes : 82\n",
      "        Network : CBS\n",
      "        Synopsis : Young Sheldon is a prequel to The Big Bang Theory and follows the early life of Sheldon Cooper, a young prodigy growing up in East Texas. The show explores Sheldon's childhood, his family dynamics, and his experiences navigating the world as a highly intelligent but socially awkward boy.\n",
      "        Budget per Episode : $10 million"
     ]
    },
    {
     "data": {
      "text/plain": [
       "AIMessage(content=\"AI:\\n        Here's what I know:\\n        Executive Producer : Chuck Lorre, Steven Molaro\\n        Genre : Sitcom\\n        Language : English\\n        Country of Origin : USA\\n        Starring : Iain Armitage, Zoe Perry, Lance Barber, Montana Jordan, Raegan Revord, Annie Potts and more\\n        No. of Seaons : 4\\n        No. of Episodes : 82\\n        Network : CBS\\n        Synopsis : Young Sheldon is a prequel to The Big Bang Theory and follows the early life of Sheldon Cooper, a young prodigy growing up in East Texas. The show explores Sheldon's childhood, his family dynamics, and his experiences navigating the world as a highly intelligent but socially awkward boy.\\n        Budget per Episode : $10 million\", additional_kwargs={}, response_metadata={'finish_reason': 'stop'}, id='run-ab04e512-f49c-404e-a56d-82c78b198396-0')"
      ]
     },
     "execution_count": 5,
     "metadata": {},
     "output_type": "execute_result"
    }
   ],
   "source": [
    "# 영화 이름을 가지고 감독, 주요 출연진, 예산, 흥행 수익, 영화의 장르, 간단한 시놉시스 등 영화에 대한 정보로 답장하는 체인\n",
    "from langchain.chat_models import ChatOpenAI\n",
    "from langchain.callbacks import StreamingStdOutCallbackHandler\n",
    "from langchain.prompts.few_shot import FewShotPromptTemplate\n",
    "from langchain.prompts import PromptTemplate\n",
    "\n",
    "chat = ChatOpenAI(temperature=0.1, streaming=True, callbacks=[StreamingStdOutCallbackHandler()])\n",
    "\n",
    "examples = [\n",
    "    {\n",
    "        \"question\":\"Friends\",\n",
    "        \"reply\":\"\"\"\n",
    "        Here's what I know:\n",
    "        Executive Producer : David Crane, Marta Kauffman\n",
    "        Genre : Sitcom\n",
    "        Language : English\n",
    "        Country of Origin : USA\n",
    "        Starring : Jennifer Aniston, Courteney Cox, Lisa Kudrow, Matt LeBlanc, Matthew Perry, David Schwimmer and more\n",
    "        No. of Seaons : 10\n",
    "        No. of Episodes : 236\n",
    "        Network : NBC\n",
    "        Synopsis : Friends is a 90's Comedy TV show, based in Manhattan, about 6 friends who go through just about every life experience imaginable together; love, marriage, divorce, children, heartbreaks, fights, new jobs and job losses and all sorts of drama.\n",
    "        Budget per Episode : $10 million\n",
    "        \"\"\"\n",
    "    }, {\n",
    "        \"question\":\"The Big Bang Theory\",\n",
    "        \"reply\":\"\"\"\n",
    "        Here's what I know:\n",
    "        Executive Producer : Chuck Lorre, Bill Prady\n",
    "        Genre : Sitcom\n",
    "        Language : English\n",
    "        Country of Origin : USA\n",
    "        Starring : Johnny Galecki, Jim Parsons, Kaley Cuoco, Simon Helberg, Kunal Nayyar, Sara Gilbert, Mayim Bialik and more\n",
    "        No. of Seaons : 12\n",
    "        No. of Episodes : 279\n",
    "        Network : CBS\n",
    "        Synopsis : Mensa-fied best friends and roommates Leonard and Sheldon, physicists who work at the California Institute of Technology, may be able to tell everybody more than they want to know about quantum physics, but getting through most basic social situations, especially ones involving women, totally baffles them. How lucky, then, that babe-alicious waitress/aspiring actress Penny moves in next door. Frequently seen hanging out with Leonard and Sheldon are friends and fellow Caltech scientists Wolowitz and Koothrappali. Will worlds collide? Does Einstein theorize in the woods?\n",
    "        Budget per Episode : $10 million\n",
    "        \"\"\"\n",
    "    }\n",
    "]\n",
    "\n",
    "example_prompt = PromptTemplate.from_template(\n",
    "    \"Human:{question}\\nAI:{reply}\"\n",
    ")\n",
    "\n",
    "prompt = FewShotPromptTemplate(\n",
    "    example_prompt=example_prompt,\n",
    "    examples=examples,\n",
    "    suffix=\"Human: What do you know about {drama}\",\n",
    "    input_variables=[\"drama\"]\n",
    ")\n",
    "\n",
    "chain = prompt | chat\n",
    "\n",
    "chain.invoke({\"drama\":\"Young Sheldon\"})\n",
    "\n"
   ]
  }
 ],
 "metadata": {
  "kernelspec": {
   "display_name": "fullstack-gpt",
   "language": "python",
   "name": "python3"
  },
  "language_info": {
   "codemirror_mode": {
    "name": "ipython",
    "version": 3
   },
   "file_extension": ".py",
   "mimetype": "text/x-python",
   "name": "python",
   "nbconvert_exporter": "python",
   "pygments_lexer": "ipython3",
   "version": "3.10.12"
  }
 },
 "nbformat": 4,
 "nbformat_minor": 2
}
