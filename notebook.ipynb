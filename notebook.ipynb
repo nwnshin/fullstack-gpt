{
 "cells": [
  {
   "cell_type": "code",
   "execution_count": null,
   "metadata": {},
   "outputs": [],
   "source": [
    "from langchain.chat_models import ChatOpenAI\n",
    "from langchain.prompts import ChatPromptTemplate\n",
    "from langchain.callbacks import StreamingStdOutCallbackHandler\n",
    "\n",
    "chat = ChatOpenAI(temperature=0.5, streaming=True, callbacks=[StreamingStdOutCallbackHandler()])\n",
    "\n",
    "poet_prompt = ChatPromptTemplate.from_messages([\n",
    "    (\"system\", \"You are a world-class nobel prized poet. You only create poems about programming languages. You are famous for using easy expressions in your poetry. Your poetry should be in english, and length should be min 100 words and max 500 words.\"),\n",
    "    (\"human\", \"I want a poem about {programLang}\")\n",
    "])\n",
    "\n",
    "poet_chain = poet_prompt | chat\n",
    "\n",
    "poet_chain.invoke({\n",
    "    \"programLang\" : \"typescript\"\n",
    "})\n"
   ]
  },
  {
   "cell_type": "code",
   "execution_count": null,
   "metadata": {},
   "outputs": [],
   "source": [
    "analysis_prompt = ChatPromptTemplate.from_messages([\n",
    "    (\"system\", \"You are a professional poem analysist. You summarize and analyze poetry with easy expressions for middle school students. Length of your analysis should be max 350 words.\"),\n",
    "    (\"human\", \"{poem}\")\n",
    "])\n",
    "\n",
    "analysis_chain = analysis_prompt | chat\n",
    "\n",
    "final_chain = {\"programLang\":poet_chain} | analysis_chain\n",
    "\n",
    "final_chain.invoke({\n",
    "    \"programLang\" : \"typescript\"\n",
    "})"
   ]
  }
 ],
 "metadata": {
  "kernelspec": {
   "display_name": "fullstack-gpt",
   "language": "python",
   "name": "python3"
  },
  "language_info": {
   "codemirror_mode": {
    "name": "ipython",
    "version": 3
   },
   "file_extension": ".py",
   "mimetype": "text/x-python",
   "name": "python",
   "nbconvert_exporter": "python",
   "pygments_lexer": "ipython3",
   "version": "3.10.12"
  }
 },
 "nbformat": 4,
 "nbformat_minor": 2
}
