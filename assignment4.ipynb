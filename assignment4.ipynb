{
 "cells": [
  {
   "cell_type": "code",
   "execution_count": 1,
   "metadata": {},
   "outputs": [],
   "source": [
    "#- Stuff Documents 체인을 사용하여 완전한 RAG 파이프라인을 구현하세요. 체인을 수동으로 구현해야 합니다.\n",
    "#- 체인에 ConversationBufferMemory를 부여합니다.\n",
    "#- 이 문서를 사용하여 RAG를 수행하세요: https://gist.github.com/serranoarevalo/5acf755c2b8d83f1707ef266b82ea223\n",
    "#- 체인에 다음 질문을 합니다:\n",
    "#\tAaronson 은 유죄인가요?\n",
    "#\t그가 테이블에 어떤 메시지를 썼나요?\n",
    "#\tJulia 는 누구인가요?"
   ]
  },
  {
   "cell_type": "code",
   "execution_count": 2,
   "metadata": {},
   "outputs": [
    {
     "name": "stderr",
     "output_type": "stream",
     "text": [
      "/tmp/ipykernel_1491/1334407323.py:11: LangChainDeprecationWarning: The class `ChatOpenAI` was deprecated in LangChain 0.0.10 and will be removed in 1.0. An updated version of the class exists in the :class:`~langchain-openai package and should be used instead. To use it run `pip install -U :class:`~langchain-openai` and import as `from :class:`~langchain_openai import ChatOpenAI``.\n",
      "  llm = ChatOpenAI( temperature=0.3, streaming=True )\n",
      "/tmp/ipykernel_1491/1334407323.py:13: LangChainDeprecationWarning: Please see the migration guide at: https://python.langchain.com/docs/versions/migrating_memory/\n",
      "  memory = ConversationBufferMemory(llm=llm, max_token_limit=20, return_messages=True) # 메모리 설정\n",
      "/tmp/ipykernel_1491/1334407323.py:17: LangChainDeprecationWarning: The class `UnstructuredFileLoader` was deprecated in LangChain 0.2.8 and will be removed in 1.0. An updated version of the class exists in the :class:`~langchain-unstructured package and should be used instead. To use it run `pip install -U :class:`~langchain-unstructured` and import as `from :class:`~langchain_unstructured import UnstructuredLoader``.\n",
      "  loader = UnstructuredFileLoader(\"./files/assignment4.txt\") # 문서 load\n",
      "/tmp/ipykernel_1491/1334407323.py:27: LangChainDeprecationWarning: The class `OpenAIEmbeddings` was deprecated in LangChain 0.0.9 and will be removed in 1.0. An updated version of the class exists in the :class:`~langchain-openai package and should be used instead. To use it run `pip install -U :class:`~langchain-openai` and import as `from :class:`~langchain_openai import OpenAIEmbeddings``.\n",
      "  embeddings = OpenAIEmbeddings() # 오픈ai 임베딩 모델 사용\n"
     ]
    }
   ],
   "source": [
    "from langchain.chat_models import ChatOpenAI\n",
    "from langchain.prompts import ChatPromptTemplate, MessagesPlaceholder\n",
    "from langchain.memory import ConversationBufferMemory\n",
    "from langchain.document_loaders import UnstructuredFileLoader\n",
    "from langchain.text_splitter import CharacterTextSplitter\n",
    "from langchain.embeddings import OpenAIEmbeddings, CacheBackedEmbeddings\n",
    "from langchain.vectorstores import FAISS\n",
    "from langchain.storage import LocalFileStore\n",
    "from langchain.schema.runnable import RunnablePassthrough\n",
    "\n",
    "llm = ChatOpenAI( temperature=0.3, streaming=True ) \n",
    "\n",
    "memory = ConversationBufferMemory(llm=llm, max_token_limit=20, return_messages=True) # 메모리 설정\n",
    "\n",
    "cache_dir = LocalFileStore(\"./.cache/\") # 캐싱 저장경로 설정\n",
    "\n",
    "loader = UnstructuredFileLoader(\"./files/assignment4.txt\") # 문서 load\n",
    "\n",
    "splitter = CharacterTextSplitter.from_tiktoken_encoder(\n",
    "    separator=\"\\n\",\n",
    "    chunk_size=500,\n",
    "    chunk_overlap=100,\n",
    ") # splitter 설정\n",
    "\n",
    "splitted_docs = loader.load_and_split(text_splitter=splitter) # 문서 객체를 split\n",
    "\n",
    "embeddings = OpenAIEmbeddings() # 오픈ai 임베딩 모델 사용\n",
    "\n",
    "cached_embeddings = CacheBackedEmbeddings.from_bytes_store(embeddings,cache_dir) # 임베딩을 디렉토리에 캐싱\n",
    "\n",
    "vectorstore = FAISS.from_documents(splitted_docs, cached_embeddings) # FAISS 벡터스토어 생성 & 문서 저장\n",
    "\n",
    "retriever = vectorstore.as_retriever() # retriever 구현\n",
    "\n"
   ]
  },
  {
   "cell_type": "code",
   "execution_count": 6,
   "metadata": {},
   "outputs": [
    {
     "name": "stdout",
     "output_type": "stream",
     "text": [
      "content=\"I don't know.\" additional_kwargs={} response_metadata={'finish_reason': 'stop'} id='run-b5e429bb-0b3c-4a53-8829-34caead5280e-0'\n",
      "content='He wrote \"FREEDOM IS SLAVERY\" and \"TWO AND TWO MAKE FIVE\" on the table.' additional_kwargs={} response_metadata={'finish_reason': 'stop'} id='run-3e3c5d31-c8ce-4ec3-b973-1e835a80790a-0'\n",
      "content='Julia is a character who Winston loves and feels a strong connection to in the text.' additional_kwargs={} response_metadata={'finish_reason': 'stop'} id='run-1f620846-e710-4e10-b4f0-81350ee000a9-0'\n"
     ]
    },
    {
     "data": {
      "text/plain": [
       "[HumanMessage(content='Is Aaronson guilty?', additional_kwargs={}, response_metadata={}),\n",
       " AIMessage(content=\"I don't know.\", additional_kwargs={}, response_metadata={}),\n",
       " HumanMessage(content='What message did he write in the table?', additional_kwargs={}, response_metadata={}),\n",
       " AIMessage(content='He wrote \"FREEDOM IS SLAVERY\" and \"TWO AND TWO MAKE FIVE\" on the table.', additional_kwargs={}, response_metadata={}),\n",
       " HumanMessage(content='Who is Julia?', additional_kwargs={}, response_metadata={}),\n",
       " AIMessage(content='Julia is a character who Winston loves and feels a strong connection to in the text.', additional_kwargs={}, response_metadata={})]"
      ]
     },
     "execution_count": 6,
     "metadata": {},
     "output_type": "execute_result"
    }
   ],
   "source": [
    "def load_memory(_):\n",
    "    return memory.load_memory_variables({})[\"history\"]\n",
    "\n",
    "prompt = ChatPromptTemplate.from_messages(\n",
    "    [(\"system\", \"You are a helpful assistant. Answer questions using only the following context. If you don't know the answer just say you don't know, don't make it up:\\n\\n{document}\"),\n",
    "    MessagesPlaceholder(variable_name=\"history\"),\n",
    "    (\"human\",\"{question}\")]\n",
    ")\n",
    "\n",
    "chain = (\n",
    "    {\n",
    "        \"document\": retriever,\n",
    "        \"question\": RunnablePassthrough(),\n",
    "        \"history\": load_memory,\n",
    "    }\n",
    ") | prompt | llm\n",
    "\n",
    "def invoke_chain(question):\n",
    "    #print(type(question))\n",
    "    result = chain.invoke(question)\n",
    "    memory.save_context(\n",
    "        {\"input\":question}, {\"output\":result.content}\n",
    "    )\n",
    "    print(result)\n",
    "\n",
    "invoke_chain(\"Is Aaronson guilty?\")\n",
    "invoke_chain(\"What message did he write in the table?\")\n",
    "invoke_chain(\"Who is Julia?\")\n",
    "\n",
    "load_memory({})"
   ]
  }
 ],
 "metadata": {
  "kernelspec": {
   "display_name": "fullstack-gpt",
   "language": "python",
   "name": "python3"
  },
  "language_info": {
   "codemirror_mode": {
    "name": "ipython",
    "version": 3
   },
   "file_extension": ".py",
   "mimetype": "text/x-python",
   "name": "python",
   "nbconvert_exporter": "python",
   "pygments_lexer": "ipython3",
   "version": "3.10.12"
  }
 },
 "nbformat": 4,
 "nbformat_minor": 2
}
